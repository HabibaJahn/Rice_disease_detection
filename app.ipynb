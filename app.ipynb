{
  "nbformat": 4,
  "nbformat_minor": 0,
  "metadata": {
    "colab": {
      "provenance": [],
      "authorship_tag": "ABX9TyPea5RC8e04xXjfEi2DdhvI",
      "include_colab_link": true
    },
    "kernelspec": {
      "name": "python3",
      "display_name": "Python 3"
    },
    "language_info": {
      "name": "python"
    }
  },
  "cells": [
    {
      "cell_type": "markdown",
      "metadata": {
        "id": "view-in-github",
        "colab_type": "text"
      },
      "source": [
        "<a href=\"https://colab.research.google.com/github/HabibaJahn/Rice_disease_detection/blob/habiba/app.ipynb\" target=\"_parent\"><img src=\"https://colab.research.google.com/assets/colab-badge.svg\" alt=\"Open In Colab\"/></a>"
      ]
    },
    {
      "cell_type": "code",
      "execution_count": null,
      "metadata": {
        "colab": {
          "base_uri": "https://localhost:8080/"
        },
        "id": "MSj4ytJ3mRYv",
        "outputId": "6ad75e19-5550-4957-94a3-4f5a948724b0"
      },
      "outputs": [
        {
          "output_type": "stream",
          "name": "stdout",
          "text": [
            "Mounted at /content/drive\n"
          ]
        }
      ],
      "source": [
        "from google.colab import drive\n",
        "drive.mount('/content/drive')"
      ]
    },
    {
      "cell_type": "code",
      "source": [
        "import gradio as gr\n",
        "import numpy as np\n",
        "import tensorflow as tf\n",
        "from tensorflow.keras.models import load_model\n",
        "from tensorflow.keras.applications.efficientnet import preprocess_input\n",
        "from PIL import Image\n",
        "\n",
        "model = load_model(\"/content/drive/My Drive/AI Project/efficientnet_model.keras\")\n",
        "\n",
        "\n",
        "class_names = [\n",
        "    \"bacterial_leaf_blight\",\n",
        "    \"brown_spot\",\n",
        "    \"healthy\",\n",
        "    \"leaf_blast\",\n",
        "    \"leaf_scald\",\n",
        "    \"narrow_brown_spot\",\n",
        "    \"neck_blast\",\n",
        "    \"rice_hispa\",\n",
        "    \"sheath_blight\",\n",
        "    \"tungro\"\n",
        "]\n",
        "\n",
        "def predict(image: Image.Image):\n",
        "    img = image.resize((225, 225)).convert('RGB')\n",
        "\n",
        "    img_array = np.array(img).astype('float32')\n",
        "\n",
        "    img_array = np.expand_dims(img_array, axis=0)\n",
        "\n",
        "    preds = model.predict(img_array)[0]\n",
        "\n",
        "    class_id = np.argmax(preds)\n",
        "    confidence = preds[class_id]\n",
        "    class_name = class_names[class_id]\n",
        "\n",
        "    top_3 = preds.argsort()[-3:][::-1]\n",
        "    print(\"Top 3 Predictions:\")\n",
        "    for i in top_3:\n",
        "        print(f\"{class_names[i]}: {preds[i]*100:.2f}%\")\n",
        "\n",
        "    return f\"Class: {class_name}\\nConfidence: {confidence:.2%}\"\n",
        "\n",
        "interface = gr.Interface(\n",
        "    fn=predict,\n",
        "    inputs=gr.Image(type=\"pil\"),\n",
        "    outputs=\"text\",\n",
        "    title=\"EfficientNet Plant Disease Classifier\",\n",
        "    description=\"Upload an image of a rice leaf to classify its disease.\"\n",
        ")\n",
        "\n",
        "interface.launch()\n"
      ],
      "metadata": {
        "colab": {
          "base_uri": "https://localhost:8080/",
          "height": 646
        },
        "id": "C_nrp0pKnAz5",
        "outputId": "b499b7a6-2486-4c35-e5c0-a422047b24b1"
      },
      "execution_count": null,
      "outputs": [
        {
          "output_type": "stream",
          "name": "stdout",
          "text": [
            "It looks like you are running Gradio on a hosted a Jupyter notebook. For the Gradio app to work, sharing must be enabled. Automatically setting `share=True` (you can turn this off by setting `share=False` in `launch()` explicitly).\n",
            "\n",
            "Colab notebook detected. To show errors in colab notebook, set debug=True in launch()\n",
            "* Running on public URL: https://75e7cecef3168b2be9.gradio.live\n",
            "\n",
            "This share link expires in 1 week. For free permanent hosting and GPU upgrades, run `gradio deploy` from the terminal in the working directory to deploy to Hugging Face Spaces (https://huggingface.co/spaces)\n"
          ]
        },
        {
          "output_type": "display_data",
          "data": {
            "text/plain": [
              "<IPython.core.display.HTML object>"
            ],
            "text/html": [
              "<div><iframe src=\"https://75e7cecef3168b2be9.gradio.live\" width=\"100%\" height=\"500\" allow=\"autoplay; camera; microphone; clipboard-read; clipboard-write;\" frameborder=\"0\" allowfullscreen></iframe></div>"
            ]
          },
          "metadata": {}
        },
        {
          "output_type": "execute_result",
          "data": {
            "text/plain": []
          },
          "metadata": {},
          "execution_count": 3
        }
      ]
    }
  ]
}